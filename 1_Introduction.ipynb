{
 "cells": [
  {
   "cell_type": "markdown",
   "metadata": {
    "slideshow": {
     "slide_type": "slide"
    }
   },
   "source": [
    "# MCSE 6309 and EMoS 6309: \n",
    "# Machine Learning\n",
    "## Introduction\n",
    "### June, 2019"
   ]
  },
  {
   "cell_type": "markdown",
   "metadata": {
    "slideshow": {
     "slide_type": "slide"
    }
   },
   "source": [
    "## What is Machine Learning?\n",
    "Machine Learning is about designing algorithms that __automatically__ extract valuable information from data.\n",
    "\n",
    ">Machine learning is the principle technology underpinning the recent advances in artificial intelligence. Machine learning is perhaps the principal technology behind two emerging domains: data science and artificial intelligence. The rise of machine learning is coming about through the availability of data and computation, but machine learning methdologies are fundamentally dependent on models. (Neil Lawrence, 2017)\n",
    "\n",
    "$$ data\\quad  + \\quad model \\quad \\underrightarrow{compute} \\quad prediction\n",
    "$$\n",
    "* __data__: observations, could be actively or passively acquired (meta-data).\n",
    "* __model__: assumptions, based on previous experience (other data! transfer learning etc), or beliefs about the regularities of the universe. Inductive bias.\n",
    "* __prediction__:an action to be taken or a categorization or a quality score."
   ]
  },
  {
   "cell_type": "markdown",
   "metadata": {
    "slideshow": {
     "slide_type": "slide"
    }
   },
   "source": [
    "## Concepts of Machine Learning\n",
    "Three concepts that are at the core of machine learning: _data, a model and learning_\n",
    "\n",
    "__Data__ is at the core of machine learning. Machine Learning is inherently data driven with the goal to design general purpose methodologies to extract valuable patterns from data, ideally without much domain-specific expertise e.g. books in many libraries, machine learning methods can be used to automatically find relevant topics that are shared across documents.\n",
    "\n",
    "To achieve this goal, we design __models__ that are typically related to the process that generates data. e.g. in regression setting, a model would describe a function that maps inputs to real-valued outputs."
   ]
  },
  {
   "cell_type": "markdown",
   "metadata": {
    "slideshow": {
     "slide_type": "subslide"
    }
   },
   "source": [
    "A __model__ is said to learn from data if its performance on a given task improves after the data is taken into account. The goal is to find good models that generalize well to yet unseen data, which we may care about in the future. A __model__ is typically used to describe a process for generating data, similar to the dataset at hand. \n",
    "\n",
    "A _good model_:\n",
    "* a simplified version of the real (unknown) data-generating process, capturing aspects that are relevant for modeling the data and extracting hidden patterns from it.\n",
    "* can be used to predict what would happen in the real world without performing real-world experiments.\n",
    "\n",
    "__Learning__: a way to automatically find patterns and structure in data by optimizing the parameters of the model."
   ]
  },
  {
   "cell_type": "markdown",
   "metadata": {
    "slideshow": {
     "slide_type": "slide"
    }
   },
   "source": [
    "## Important Terms for Intuitions\n",
    "__Algorithm__ is used in at least two different senses in the context of Machine Learning:\n",
    "1. Machine Learning algorithm to mean a system that makes predictions based on input data. We refer to these algorithms as __predictors__.\n",
    "2. Machine Learning algorithm also means a system that adapts some internal parameters of the predictor so that it performs well on future unseen input data. Here we refer to this adaptation as __training__ a system.\n",
    "\n",
    "Given a dataset and a suitable model, training the model means to use the data available to optimize some parameters of the model with respect to a utility function that evaluates how well the model predicts the training data."
   ]
  },
  {
   "cell_type": "markdown",
   "metadata": {
    "slideshow": {
     "slide_type": "slide"
    }
   },
   "source": [
    "## Applications of Machine Learning\n",
    "* Text classification\n",
    "* Natural Language Processing\n",
    "* Computer vision tasks, eg. Image recognition, face recognition\n",
    "* Medical diagnosis\n",
    "* Recommendation systems\n",
    "* Games eg. AlphaGo\n",
    "* Speech recognition eg. Siri, Google Home\n",
    "* Self driving cars etc."
   ]
  },
  {
   "cell_type": "markdown",
   "metadata": {
    "slideshow": {
     "slide_type": "slide"
    }
   },
   "source": [
    "## Data Science\n",
    ">Data Science is the process of formulating a quantitative question that can be answered with data, collecting and cleaning the data, analyzing the data and communicating the answer to the question to a relevant audience. \n",
    "\n",
    "### What question are you trying to answer with data?\n",
    "\n",
    ">We define the field of data science to be the challenge of making sense of\n",
    "the large volumes of data that have now become available through the\n",
    "increase in sensors and the large interconnection of the internet.\n",
    "Phenomena variously known as “big data” or “the internet of things”.\n",
    "Data science differs from traditional statistics in that this data is not\n",
    "necessarily collected with a purpose or experiment in mind. It is collected\n",
    "by happenstance, and we try and extract value from it later. (Neil Lawrence, 2017)\n",
    "\n",
    "Example: Can we predict the weather for Arusha from historical weather data? "
   ]
  },
  {
   "cell_type": "markdown",
   "metadata": {
    "slideshow": {
     "slide_type": "slide"
    }
   },
   "source": [
    "## Statistics\n",
    "Statistics is the discipline of analyzing data. It intersects heavily with\n",
    "data science, machine learning and, of course, traditional statistical\n",
    "analysis.\n",
    "Key activities that define the field:\n",
    "1. Descriptive statistics (EDA, quantification, summarization, clustering)\n",
    "2. Inference (estimation, sampling, variability, defining populations)\n",
    "3. Prediction (machine learning, supervised learning)\n",
    "4. Experimental Design (the process of designing experiments)"
   ]
  },
  {
   "cell_type": "markdown",
   "metadata": {
    "slideshow": {
     "slide_type": "slide"
    }
   },
   "source": [
    "## Machine Learning Approaches\n",
    "Machine learning takes the approach of observing a system in practice\n",
    "and emulating its behavior with mathematics. One of the design aspects\n",
    "in designing machine learning solutions is where to put the mathematical\n",
    "function. Obtaining complex behavior in the resulting system can require\n",
    "some imagination in the design process.\n",
    "The Machine Learning classical approaches:\n",
    "* supervised learning\n",
    "* unsupervised learning\n",
    "* reinforcement learning"
   ]
  },
  {
   "cell_type": "markdown",
   "metadata": {
    "slideshow": {
     "slide_type": "subslide"
    }
   },
   "source": [
    "1. Supervised Learning \n",
    "    * Learn a model from a given set of input-output pairs, in order to predict the output of new  inputs. \n",
    "    * Further grouped into __Regression__ and __classification__ problems.\n",
    "2. Unsupervised Learning\n",
    "    * Discover patterns and learn the structure of unlabelled data. \n",
    "    * Example __Distribution modeling__ and __Clustering__.\n",
    "3. Reinforcement Learning \n",
    "    * Learn what actions to take in a given situation, based on rewards and penalties. \n",
    "    * Example consider teaching a dog a new trick: you cannot tell it what to do, but you can reward/punish it."
   ]
  },
  {
   "cell_type": "markdown",
   "metadata": {
    "slideshow": {
     "slide_type": "slide"
    }
   },
   "source": [
    "## Machine Learning vs Statistics\n",
    "\n",
    "Machine Learning |Traditional statistics\n",
    "--------------------------|-------------------------------\n",
    "Emphasize predictions| Emphasizes superpopulation inference\n",
    "Evaluates results via prediction performance| Focuses on a-priori hypotheses\n",
    "Concern for overfitting but not model complexity per se| Simpler models preferred over complex ones (parsimony)\n",
    "Emphasis on performance| Emphasis on parameter interpretability\n",
    "Generalizability is obtained through performance on novel datasets| Statistical modeling or sampling assumptions\n",
    "Concern over performance and robustness|Concern over assumptions and robustness"
   ]
  },
  {
   "cell_type": "markdown",
   "metadata": {
    "slideshow": {
     "slide_type": "subslide"
    }
   },
   "source": [
    "## End-to-end Data Science Approach\n",
    "\n",
    "STEP 1: Define the goal\n",
    "\n",
    "STEP 2: Data understanding and preparation\n",
    "* Importing, cleaning, manipulating and\n",
    "* Visualizing your data\n",
    "\n",
    "STEP 3: Building your machine learning model\n",
    "* Feature selection\n",
    "* Model training\n",
    "* Model validation\n",
    "\n",
    "STEP 4: Model deployment"
   ]
  },
  {
   "cell_type": "markdown",
   "metadata": {
    "slideshow": {
     "slide_type": "slide"
    }
   },
   "source": [
    "## Mathematical Foundations of Machine Learning\n",
    "It is important to understand fundamental mathematical principles upon which more complicated machine learning systems are built.\n",
    "* facilitates creating new machine learning solutions\n",
    "* understanding and debugging existing approaches and learning about the inherent assumptions of the methodologies we are working with."
   ]
  },
  {
   "cell_type": "markdown",
   "metadata": {
    "slideshow": {
     "slide_type": "slide"
    }
   },
   "source": [
    "## Pillars of Machine Learning\n",
    "The four pillars of Machine Learning:\n",
    "1. Regression\n",
    "2. Dimensionality Reduction\n",
    "3. Density Estimation\n",
    "4. Classification\n",
    "\n",
    "require a solid mathematical foundation.\n",
    "\n"
   ]
  },
  {
   "cell_type": "markdown",
   "metadata": {
    "slideshow": {
     "slide_type": "slide"
    }
   },
   "source": [
    "![pillar](figsML/pillar.png)"
   ]
  },
  {
   "cell_type": "markdown",
   "metadata": {
    "slideshow": {
     "slide_type": "slide"
    }
   },
   "source": [
    "## Further Reading\n",
    "1. Neil Lawrence (2017), __[What is Machine Learning?](http://inverseprobability.com/2017/07/17/what-is-machine-learning)__\n",
    "2. Deisenroth, M. et al.(2019) Mathematics for Machine Learning, _Chapter 1: Introduction and Motivation_ To be published by Cambridge University Press."
   ]
  }
 ],
 "metadata": {
  "celltoolbar": "Slideshow",
  "kernelspec": {
   "display_name": "Python 3",
   "language": "python",
   "name": "python3"
  },
  "language_info": {
   "codemirror_mode": {
    "name": "ipython",
    "version": 3
   },
   "file_extension": ".py",
   "mimetype": "text/x-python",
   "name": "python",
   "nbconvert_exporter": "python",
   "pygments_lexer": "ipython3",
   "version": "3.6.4"
  }
 },
 "nbformat": 4,
 "nbformat_minor": 2
}
