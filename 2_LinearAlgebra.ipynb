{
 "cells": [
  {
   "cell_type": "markdown",
   "metadata": {},
   "source": [
    "# MCSE 6309 and EMoS 6309: \n",
    "# Machine Learning\n",
    "## Linear Algebra\n",
    "### June, 2019"
   ]
  },
  {
   "cell_type": "markdown",
   "metadata": {
    "slideshow": {
     "slide_type": "slide"
    }
   },
   "source": [
    "__Linear algebra__ is the study of vectors and certain rules to manipulate vectors.\n",
    "Linear algebra plays an important role in machine learning and general mathematics.\n",
    "\n",
    "Example of vector objects:\n",
    "* Geometric vectors: are directed segments which can be drawn (at least in two dimensions). Gives direction and magnitude to reason about mathematical operations.\n",
    "* Polynomials: are also vectors\n",
    "* Audio signals are vectors\n",
    "* Elements of $\\mathbb{R}^n $(tuples of `n` real numbers) are vectors. For instance,\n",
    "\\begin{align}\n",
    "\\mathbf{a} = \\begin{bmatrix}1 \\\\ 2 \\\\ 3\\end{bmatrix} \\in \\mathbb{R}^3\n",
    "\\label{eq1}\\tag{2.1} \n",
    "\\end{align}\n",
    "is an example of a triplet of numbers. Adding two vectors $\\mathbf{a, b} \\in \\mathbb{R}^n$ component-wise results in another vector: $\\mathbf{a} + \\mathbf{b} = \\mathbf{c} \\in \\mathbb{R}^n$. Moreover, multiplying $\\mathbf{a} \\in \\mathbb{R}^n$ by $\\lambda \\in \\mathbb{R}$ results in a scaled vector $\\lambda\\mathbf{a} \\in \\mathbb{R}^n$ .\n",
    "\n",
    "The concept of a vector space and its properties underlie much of machine learning."
   ]
  },
  {
   "cell_type": "markdown",
   "metadata": {
    "slideshow": {
     "slide_type": "subslide"
    }
   },
   "source": [
    "## Types of Vectors\n",
    "![vector](figsML/vect.png)"
   ]
  },
  {
   "cell_type": "markdown",
   "metadata": {
    "slideshow": {
     "slide_type": "slide"
    }
   },
   "source": [
    "* Linear algebra focuses on the similarities between these vector concepts.\n",
    "* We can add them together and multiply them by scalars. \n",
    "* We will largely focus on vectors in $\\mathbb{R}^n $ since most algorithms in linear algebra are formulated in $\\mathbb{R}^n $."
   ]
  },
  {
   "cell_type": "markdown",
   "metadata": {
    "slideshow": {
     "slide_type": "slide"
    }
   },
   "source": [
    "## 2.1 Systems of Linear Equations\n",
    "The system of linear equations plays a central part of linear algebra. Many problems can be formulated as systems of linear equations and linear algebra gives us the tools for solving them.\n",
    "\n",
    ">__Example 2.1__\n",
    "\n",
    ">A company produces products $N_{1},....,N_{n}$ for which resources\n",
    "$R_{1},....R_{m}$ are required. To produce a unit of product $N_{j}, a_{ij}$ units of\n",
    "resource $R_{i}$ are needed, where $i = 1, . . . , m$ and $j = 1, . . . , n$. The objective is to find an optimal production plan, i.e., a plan of how many units $x_{j}$ of product $N_{j}$ should be produced if a total of $b_{i}$ units of resource $R_{i}$ are available and (ideally) no resources are left over. If we produce $x_{1}, . . . ,x_{n}$ units of the corresponding products, we need a total of\n",
    "\n",
    "\\begin{align}\n",
    "a_{i1}x_{1} + ... + a_{in}x_{n}\n",
    "\\label{eq2}\\tag{2.2}\n",
    "\\end{align}\n",
    "\n",
    "many units of resource $R_{i}$. \n",
    "\n",
    "\n"
   ]
  },
  {
   "cell_type": "markdown",
   "metadata": {
    "slideshow": {
     "slide_type": "subslide"
    }
   },
   "source": [
    "An optimal production plan $(x_{1}, ...., x_{n}) \\in \\mathbb{R}^n$, therefore, has to satisfy the following system of equations:\n",
    "\\begin{align}\n",
    "a_{11}x_{1} +  &\\ldots + a_{1n}x_{n} = b_{1}\\\\\n",
    "&\\vdots\\\\\n",
    "a_{m1}x_{1} +  &\\ldots + a_{mn}x_{n} = b_{m}\n",
    "\\label{eq3}\\tag{2.3}\n",
    "\\end{align}\n",
    "where $a_{ij} \\in \\mathbb{R}$ and $b_{i} \\in \\mathbb{R}$\n",
    "\n",
    "Equation \\ref{eq3} is the general form of a system of linear equations, and\n",
    "$x_{1}, . . . , x_{n}$ are the _unknowns_ of this system. Every $n-$tuple $(x_{1}, . . . , x_{n}) \\in \\mathbb{R}^n$ that satisfies \\ref{eq3} is a solution of the linear equation system."
   ]
  },
  {
   "cell_type": "markdown",
   "metadata": {
    "slideshow": {
     "slide_type": "slide"
    }
   },
   "source": [
    "## Example 2.2\n",
    "The system of linear equations\n",
    "\\begin{align}\n",
    "x_{1} + x_{2} &+ x_{3} &= 3\\\\\n",
    "x_{1} - x_{2} &+ 2x_{3} &= 2\\\\\n",
    "2x_{1} \\qquad       &+3x_{3} &=1\n",
    "\\label{eq4}\\tag{2.4}\n",
    "\\end{align}\n",
    "\n",
    "has _no solution_: Adding the first two equations yields $2x_{1}+3x_{3} = 5$, which contradicts the third equation. \n",
    "Consider the system of linear equations\n",
    "\\begin{align}\n",
    "x_{1} + x_{2} &+ x_{3} &= 3\\\\\n",
    "x_{1} - x_{2} &+ 2x_{3} &= 2\\\\\n",
    "\\qquad x_{2}  &+ x_{3} &=2\n",
    "\\label{eq5}\\tag{2.5}\n",
    "\\end{align}\n",
    "This gives $x_{1}=1$, $x_{2}=1$ and $x_{3}=1$. Therefore, $(1,1,1)$ is the only possible and _unique solution_"
   ]
  },
  {
   "cell_type": "markdown",
   "metadata": {
    "slideshow": {
     "slide_type": "subslide"
    }
   },
   "source": [
    "Consider a third example,\n",
    "\\begin{align}\n",
    "x_{1} + x_{2} &+ x_{3} &= 3\\\\\n",
    "x_{1} - x_{2} &+ 2x_{3} &= 2\\\\\n",
    "2x_{1} \\qquad &+ 3x_{3} &=5\n",
    "\\label{eq6}\\tag{2.6}\n",
    "\\end{align}\n",
    "\n",
    "From $1$ and $2$, we get $2x_{1}=5-3x_{3}$ and $2x_{2} = 1+x_{3}$. We define $x_{3}=a \\in \\mathbb{R}$ as a free variable, such that any triplet \n",
    "\\begin{align}\n",
    "\\left(\\frac{5}{2}-\\frac{3}{2}a,\\frac{1}{2}+\\frac{1}{2}a,a\\right), a \\in \\mathbb{R}\n",
    "\\label{eq7}\\tag{2.7}\n",
    "\\end{align}\n",
    "is a solution of the system of linear equations, ie. we obtain a solution set that contains infinitely many solutions.\n",
    "In general, for a real-valued system of linear equations we obtain either no, exactly one or infinitely many solutions."
   ]
  },
  {
   "cell_type": "markdown",
   "metadata": {
    "slideshow": {
     "slide_type": "slide"
    }
   },
   "source": [
    "## 2.2 Matrices\n",
    "Matrices have an important role in linear algebra.\n",
    "By definition, with $m, n \\in \\mathbb{N}$ a real-valued matrix $\\mathbf{A}$ is an $m.n-$tuple of elements $a_{ij}, i=1,\\ldots, m, j=1,\\ldots,n$, which is ordered according to a rectangualr scheme consisting of $m$ rows and $n$ columns:\n",
    "\n",
    "\\begin{align}\n",
    "\\mathbf{A}=\\left[\n",
    "\\begin{array}{cccc}\n",
    "a_{11}&a_{12} &\\ldots &a_{1n}\\\\\n",
    "a_{21}& a_{22} & \\ldots &a_{2n}\\\\\n",
    "\\vdots & \\vdots & &\\vdots \\\\\n",
    "a_{m1} & a_{m2}& \\ldots & a_{mn}\n",
    "\\end{array}\n",
    "\\right],  a_{ij} \\in \\mathbb{R}\n",
    "\\label{eq8}\\tag{2.8}\n",
    "\\end{align}\n",
    "\n",
    "$\\mathbb{R}^n$ is the set of all real-valued $(m,n)$- matrices. $\\mathbf{A} \\in \\mathbb{R}^{mxn}$ can be equivalently represented as $\\mathbf{a} \\in \\mathbb{R}^{mn}$ by stacking all $n$ columns of the matrix into a long vector."
   ]
  },
  {
   "cell_type": "markdown",
   "metadata": {
    "slideshow": {
     "slide_type": "slide"
    }
   },
   "source": [
    "## 2.2.1 Properties of Matrices\n",
    "1. Associativity:\n",
    "\\begin{align}\n",
    "\\forall\\mathbf{A} \\in \\mathbb{R}^{mxn},\\mathbf{B} \\in \\mathbb{R}^{nxp},\\mathbf{C} \\in \\mathbb{R}^{pxq}: (\\mathbf{AB})\\mathbf{C} = \\mathbf{A}(\\mathbf{BC}) \\\n",
    "\\label{eq9}\\tag{2.9}\n",
    "\\end{align}\n",
    "2. Distributivity\n",
    "\\begin{align}\n",
    "\\forall\\mathbf{A, B} \\in \\mathbb{R}^{mxn},\\mathbf{C,D} \\in \\mathbb{R}^{nxp}: (\\mathbf{A+B})\\mathbf{C} = \\mathbf{AC}+\\mathbf{BC}\\\\\n",
    "\\mathbf{A}(\\mathbf{C+D}) = \\mathbf{AC}+\\mathbf{AD}\n",
    "\\label{eq10}\\tag{2.10}\n",
    "\\end{align}\n",
    "3. Multiplication with the identity matrix\n",
    "\\begin{align}\n",
    "\\forall\\mathbf{A} \\in \\mathbb{R}^{mxn}: \\mathbf{I}_{m} \\mathbf{A} = \\mathbf{AI}_{n} =\\mathbf{A}\\label{eq11}\\tag{2.11}\n",
    "\\end{align}\n",
    "Note that $\\mathbf{I}_{m}\\neq \\mathbf{I}_{n}$ for $m \\neq n$"
   ]
  },
  {
   "cell_type": "markdown",
   "metadata": {
    "slideshow": {
     "slide_type": "slide"
    }
   },
   "source": [
    "## Assignment:  Read Chapter 2 of MML book by Deisenroth, et al. (2019)\n"
   ]
  },
  {
   "cell_type": "raw",
   "metadata": {},
   "source": []
  },
  {
   "cell_type": "markdown",
   "metadata": {},
   "source": []
  }
 ],
 "metadata": {
  "celltoolbar": "Slideshow",
  "kernelspec": {
   "display_name": "Python 3",
   "language": "python",
   "name": "python3"
  },
  "language_info": {
   "codemirror_mode": {
    "name": "ipython",
    "version": 3
   },
   "file_extension": ".py",
   "mimetype": "text/x-python",
   "name": "python",
   "nbconvert_exporter": "python",
   "pygments_lexer": "ipython3",
   "version": "3.6.4"
  }
 },
 "nbformat": 4,
 "nbformat_minor": 2
}
